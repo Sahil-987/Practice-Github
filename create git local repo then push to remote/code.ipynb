{
 "cells": [
  {
   "cell_type": "markdown",
   "metadata": {},
   "source": [
    "# steps\n",
    "\n",
    "\n",
    "1. local project folder bana lo (pehle se kuch files and folder pade h uss project me)\n",
    "\n",
    "2. uss project k root folder me ek .git file add kardo (git init -b main)\n",
    "\n",
    "3. ek remote repository bana do (uss remote repo me kuch files hongi readme and .gitignore) and \n",
    "    (uss remote repository ki branch hogi main (same as local))\n",
    "\n",
    "4. remote and local ko connect kar do\n",
    "    git remote add origin <url>\n",
    "\n",
    "5. apni local repository me jao, uski main branch me raho and git pull kar do \n",
    "(bhale he tumhare local repo me files and folders different h than remote rep (readme and .gitignore),\n",
    " ye git pull ho jayega)\n",
    "\n",
    "6. apni local repo me jo changes aaye h unhe git add and commit karna hoga\n",
    "git add .\n",
    "git commit -m \"initial commit\"\n",
    "\n",
    "7. git push origin main"
   ]
  },
  {
   "cell_type": "markdown",
   "metadata": {},
   "source": [
    "# alternate\n",
    "\n",
    "5. apni "
   ]
  }
 ],
 "metadata": {
  "language_info": {
   "name": "python"
  },
  "orig_nbformat": 4
 },
 "nbformat": 4,
 "nbformat_minor": 2
}
